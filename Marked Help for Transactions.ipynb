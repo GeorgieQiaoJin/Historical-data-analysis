{
 "cells": [
  {
   "cell_type": "code",
   "execution_count": 5,
   "id": "35f02fb5-5c77-420b-84b0-ff4173729551",
   "metadata": {},
   "outputs": [
    {
     "name": "stdout",
     "output_type": "stream",
     "text": [
      "Requirement already satisfied: pandas in /Users/sameeagarwal/research/ai_env/lib/python3.11/site-packages (2.2.3)\n",
      "Requirement already satisfied: numpy>=1.23.2 in /Users/sameeagarwal/research/ai_env/lib/python3.11/site-packages (from pandas) (2.2.2)\n",
      "Requirement already satisfied: python-dateutil>=2.8.2 in /Users/sameeagarwal/research/ai_env/lib/python3.11/site-packages (from pandas) (2.9.0.post0)\n",
      "Requirement already satisfied: pytz>=2020.1 in /Users/sameeagarwal/research/ai_env/lib/python3.11/site-packages (from pandas) (2025.1)\n",
      "Requirement already satisfied: tzdata>=2022.7 in /Users/sameeagarwal/research/ai_env/lib/python3.11/site-packages (from pandas) (2025.1)\n",
      "Requirement already satisfied: six>=1.5 in /Users/sameeagarwal/research/ai_env/lib/python3.11/site-packages (from python-dateutil>=2.8.2->pandas) (1.17.0)\n"
     ]
    }
   ],
   "source": [
    "!pip install pandas"
   ]
  },
  {
   "cell_type": "code",
   "execution_count": 1,
   "id": "d9efef8c-4757-4ad8-bb01-9883b60f4a28",
   "metadata": {},
   "outputs": [
    {
     "name": "stdout",
     "output_type": "stream",
     "text": [
      "0          False\n",
      "1          False\n",
      "2          False\n",
      "3          False\n",
      "4          False\n",
      "           ...  \n",
      "1650341    False\n",
      "1650342    False\n",
      "1650343    False\n",
      "1650344    False\n",
      "1650345    False\n",
      "Name: helpedTransaction, Length: 1650346, dtype: bool\n",
      "        Anon Student Id  helpedTransaction\n",
      "2295               s247               True\n",
      "5213               s221               True\n",
      "8327               s334               True\n",
      "10105              s144               True\n",
      "14649              s132               True\n",
      "...                 ...                ...\n",
      "1645922             s59               True\n",
      "1646374             s25               True\n",
      "1648571            s160               True\n",
      "1648714            s252               True\n",
      "1649472            s341               True\n",
      "\n",
      "[633 rows x 2 columns]\n"
     ]
    }
   ],
   "source": [
    "import pandas as pd\n",
    "\n",
    "file_path1 = \"Marked Help Instances - 7x - anon - Marked Help Instances - 7x - anon.csv\"\n",
    "marked_df = pd.read_csv(file_path1)\n",
    "file_path2 = \"LiveLab_top_15_MATHia_7x_classes_anon.csv\"\n",
    "livelab_df = pd.read_csv(file_path2)\n",
    "\n",
    "# Ensure timestamps are in datetime format\n",
    "marked_df[\"helped_server_time2\"] = pd.to_datetime(marked_df[\"helped_server_time2\"], errors='coerce')\n",
    "livelab_df[\"Time\"] = pd.to_datetime(livelab_df[\"Time\"], errors='coerce')\n",
    "\n",
    "marked_df[\"helped_server_time2\"] = marked_df[\"helped_server_time2\"].dt.tz_localize(None)\n",
    "livelab_df[\"Time\"] = livelab_df[\"Time\"].dt.tz_localize(None)\n",
    "\n",
    "# Initialize helpedRightAfter column as False\n",
    "livelab_df[\"helpedTransaction\"] = False\n",
    "\n",
    "# Process each student separately\n",
    "for student_id in livelab_df[\"Anon Student Id\"].unique():\n",
    "    if student_id not in marked_df[\"anon_student_id\"].values:\n",
    "        continue  # Skip if no help data exists for the student\n",
    "    \n",
    "    # Get all LiveLab timestamps for this student (sorted)\n",
    "    student_livelab_times = livelab_df[livelab_df[\"Anon Student Id\"] == student_id].sort_values(\"Time\")\n",
    "\n",
    "    # Get all marked help timestamps for this student (sorted)\n",
    "    student_help_times = sorted(marked_df[marked_df[\"anon_student_id\"] == student_id][\"helped_server_time2\"])\n",
    "\n",
    "    # Find the closest preceding timestamp for each help time\n",
    "    last_marked_index = None  # Track which index was last marked\n",
    "    for help_time in student_help_times:\n",
    "        # Find all times before the help event\n",
    "        before_help_times = student_livelab_times[student_livelab_times[\"Time\"] < help_time]\n",
    "\n",
    "        if not before_help_times.empty:\n",
    "            # Get the latest action before the help time\n",
    "            closest_time_index = before_help_times.index[-1]\n",
    "\n",
    "            # Avoid marking multiple times for the same help event\n",
    "            if last_marked_index != closest_time_index:\n",
    "                livelab_df.at[closest_time_index, \"helpedTransaction\"] = True\n",
    "                last_marked_index = closest_time_index  # Update last marked index\n",
    "                \n",
    "livelab_df.to_csv(\"Updated_LiveLab.csv\", index=False)\n",
    "\n",
    "# Display the updated DataFrame\n",
    "print(livelab_df[\"helpedTransaction\"])\n",
    "\n",
    "true_students = livelab_df[livelab_df[\"helpedTransaction\"] == True]\n",
    "print(true_students[[\"Anon Student Id\", \"helpedTransaction\"]])"
   ]
  },
  {
   "cell_type": "code",
   "execution_count": 7,
   "id": "14d539ff-4a4d-48fb-9443-aba9b0a28fac",
   "metadata": {},
   "outputs": [
    {
     "name": "stdout",
     "output_type": "stream",
     "text": [
      "Correlation between requesting help and getting help: -0.004414936609158632\n"
     ]
    }
   ],
   "source": [
    "import pandas as pd\n",
    "\n",
    "file_path1 = \"Updated_LiveLab.csv\"\n",
    "livelab_df = pd.read_csv(file_path1)\n",
    "\n",
    "livelab_df['requested_help'] = livelab_df['Help Level'].apply(lambda x: 1 if x > 0 else 0)\n",
    "livelab_df['got_help'] = livelab_df['helpedTransaction'].apply(lambda x: 1 if x == True else 0)\n",
    "correlation = livelab_df['requested_help'].corr(livelab_df['got_help'])\n",
    "print(f\"Correlation between requesting help and getting help: {correlation}\")"
   ]
  },
  {
   "cell_type": "code",
   "execution_count": null,
   "id": "6bd158e6-5165-46da-a31a-fffe68fc224c",
   "metadata": {},
   "outputs": [],
   "source": []
  }
 ],
 "metadata": {
  "kernelspec": {
   "display_name": "Python 3 (ipykernel)",
   "language": "python",
   "name": "python3"
  },
  "language_info": {
   "codemirror_mode": {
    "name": "ipython",
    "version": 3
   },
   "file_extension": ".py",
   "mimetype": "text/x-python",
   "name": "python",
   "nbconvert_exporter": "python",
   "pygments_lexer": "ipython3",
   "version": "3.11.5"
  }
 },
 "nbformat": 4,
 "nbformat_minor": 5
}
