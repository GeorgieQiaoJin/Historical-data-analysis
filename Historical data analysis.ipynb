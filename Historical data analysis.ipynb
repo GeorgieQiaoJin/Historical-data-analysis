{
 "cells": [
  {
   "cell_type": "code",
   "execution_count": 5,
   "id": "c74ea8e7-5062-4f4e-9010-9450ff2afa18",
   "metadata": {},
   "outputs": [
    {
     "name": "stdout",
     "output_type": "stream",
     "text": [
      "  Anon Student Id                                 Session Id  \\\n",
      "0            s141  qb8uqykv9llqylywx-ilzwqrqn0:1679667026583   \n",
      "1            s141  qb8uqykv9llqylywx-ilzwqrqn0:1679667026583   \n",
      "\n",
      "                  Time                         KC_Model(MATHia)  \\\n",
      "0  2023-03-24 14:26:50  match _dep expression with description.   \n",
      "1  2023-03-24 14:26:53  match _dep expression with description.   \n",
      "\n",
      "          Level (Section)                Problem Name           Step Name  \\\n",
      "0  analyzing_models_1step  analyzing_models_1step-029  gn-classify-item-4   \n",
      "1  analyzing_models_1step  analyzing_models_1step-029  gn-classify-item-2   \n",
      "\n",
      "   Attempt At Step  Help Level  Selection  ... CF (Skill Previous p-Known)  \\\n",
      "0                1           0        NaN  ...                    0.650237   \n",
      "1                1           0        NaN  ...                    0.887118   \n",
      "\n",
      "  CF (Skill New p-Known)                           CF (Module)  \\\n",
      "0               0.887118  determining_unknown_quantities_mb_c1   \n",
      "1               0.970117  determining_unknown_quantities_mb_c1   \n",
      "\n",
      "  CF (Workspace Encounter) CF (Workspace Variant)  \\\n",
      "0                        0          empty-variant   \n",
      "1                        0          empty-variant   \n",
      "\n",
      "  CF (Workspace Progress Status)  CF (Skill Opportunity)  cf_school_id  \\\n",
      "0                      GRADUATED                    23.0         sch10   \n",
      "1                      GRADUATED                    24.0         sch10   \n",
      "\n",
      "  cf_class_id  Selection <- ifelse(Action == \"Done Button\", \"Done Button\", NA)  \n",
      "0          c8                                                NaN                \n",
      "1          c8                                                NaN                \n",
      "\n",
      "[2 rows x 26 columns]\n",
      "\n",
      "Column names: ['Anon Student Id', 'Session Id', 'Time', 'KC_Model(MATHia)', 'Level (Section)', 'Problem Name', 'Step Name', 'Attempt At Step', 'Help Level', 'Selection', 'Action', 'Input', 'Outcome', 'CF (Rule Id)', 'CF (Semantic Event ID)', 'CF (Etalon)', 'CF (Skill Previous p-Known)', 'CF (Skill New p-Known)', 'CF (Module)', 'CF (Workspace Encounter)', 'CF (Workspace Variant)', 'CF (Workspace Progress Status)', 'CF (Skill Opportunity)', 'cf_school_id', 'cf_class_id', 'Selection <- ifelse(Action == \"Done Button\", \"Done Button\", NA)']\n"
     ]
    }
   ],
   "source": [
    "import pandas as pd\n",
    "\n",
    "file_path = \"LiveLab_top_15_MATHia_7x_classes_anon.csv\"\n",
    "\n",
    "df = pd.read_csv(file_path)\n",
    "\n",
    "print(df.head(2))\n",
    "\n",
    "# display column names\n",
    "print(\"\\nColumn names:\", df.columns.tolist())\n"
   ]
  },
  {
   "cell_type": "code",
   "execution_count": 9,
   "id": "6fc87ae0-6e12-4bd8-82d9-a6cf175fb6c4",
   "metadata": {},
   "outputs": [
    {
     "name": "stdout",
     "output_type": "stream",
     "text": [
      "cf_class_id\n",
      "c8     213291\n",
      "c12    183133\n",
      "c2     159826\n",
      "c15    143542\n",
      "c9     138025\n",
      "c7     130800\n",
      "c6     130553\n",
      "c13    130237\n",
      "c10     98389\n",
      "c5      85363\n",
      "c3      76204\n",
      "c14     62286\n",
      "c11     55127\n",
      "c4      25719\n",
      "c1      17851\n",
      "Name: count, dtype: int64\n"
     ]
    }
   ],
   "source": [
    "# Count how many transactions in each class\n",
    "cf_class_id_counts = df['cf_class_id'].value_counts()\n",
    "\n",
    "print(cf_class_id_counts)"
   ]
  },
  {
   "cell_type": "code",
   "execution_count": 19,
   "id": "8abf478f-efe5-4c86-957f-a51565a52bea",
   "metadata": {},
   "outputs": [
    {
     "name": "stdout",
     "output_type": "stream",
     "text": [
      "cf_class_id  Anon Student Id  Session Id                               \n",
      "c1           s111             02nz11rk5vapthxnhkufh2mlx7q:1677166192418    225\n",
      "                              8jnruvmdjomeujh343gnd9aw_f0:1666797238899     74\n",
      "                              eirroqbeufsh8kymyguof0qkrfg:1666712116267     75\n",
      "                              hpqwpqrwr3o0egjnrmmans2nibq:1672932855145     78\n",
      "                              kiteau2dhnkmlvmwowpsjixeiok:1667315656734     41\n",
      "                                                                          ... \n",
      "c9           s61              sggvqtnhbds1gc9e7ag_tt_cvy4:1673283183502      7\n",
      "                              tucwr3pcny0hzaiv_0mkalvgrkq:1679587647015      5\n",
      "                              wbxdxftpwe70qoyyvnwxwzrh6fw:1678118495644      4\n",
      "                              xvski0imfubiuzrvmh_tf2pz6jo:1674060267788      5\n",
      "                              ykpo9hgz_c7tbycmxso4ddo18ci:1679326599181    231\n",
      "Length: 15517, dtype: int64\n"
     ]
    }
   ],
   "source": [
    "# Group by 'cf_class_id', then 'Anon Student Id', then 'Session Id' and count occurrences\n",
    "cf_class_id_student_session_counts = df.groupby(['cf_class_id', 'Anon Student Id', 'Session Id']).size()\n",
    "\n",
    "print(cf_class_id_student_session_counts)\n",
    "\n",
    "cf_class_id_student_session_counts.to_csv(\"cf_class_id_student_session_counts.csv\", header=True)"
   ]
  },
  {
   "cell_type": "code",
   "execution_count": null,
   "id": "09a4b06c-a862-453e-b4a0-ec8f48631b67",
   "metadata": {},
   "outputs": [],
   "source": [
    "#Single session ——> for IDEL"
   ]
  },
  {
   "cell_type": "code",
   "execution_count": 41,
   "id": "68e3cba2-33db-4221-be88-c54c645741dd",
   "metadata": {},
   "outputs": [],
   "source": [
    "import pandas as pd\n",
    "\n",
    "file_path = \"single_session.csv\"\n",
    "df = pd.read_csv(file_path)\n",
    "\n",
    "# Convert 'Time' column to datetime format with automatic inference\n",
    "df['Time'] = pd.to_datetime(df['Time'], format='mixed', errors='coerce')\n",
    "\n",
    "# Sort by time to ensure chronological order\n",
    "df = df.sort_values(by='Time')\n",
    "\n",
    "# Calculate time difference with the previous row\n",
    "df['Time_Diff_Minutes'] = df['Time'].diff().dt.total_seconds() / 60  # Convert seconds to minutes\n",
    "\n",
    "# Define 'Idle' column (True if the time difference > 5 minutes)\n",
    "df['Idle'] = df['Time_Diff_Minutes'] > 5\n",
    "\n",
    "output_file = \"single_session_processed.csv\"\n",
    "df.to_csv(output_file, index=False)"
   ]
  },
  {
   "cell_type": "code",
   "execution_count": null,
   "id": "2a4a572e-cff1-4c40-a56e-de0c53856f04",
   "metadata": {},
   "outputs": [],
   "source": [
    "#Single session ——> for MONITOR"
   ]
  },
  {
   "cell_type": "code",
   "execution_count": 39,
   "id": "428dab7e-dbc0-406a-b2f4-a2627125ad78",
   "metadata": {},
   "outputs": [],
   "source": [
    "# Function to calculate rolling window statistics\n",
    "def rolling_monitor_status(outcomes):\n",
    "    monitor_status = []  # Stores True/False for each row\n",
    "    attempt_counts = []  # Stores Attempt count for each row\n",
    "    for i in range(len(outcomes)):\n",
    "        # Get the last 10 rows up to the current row\n",
    "        last_10 = outcomes[max(0, i - 9): i + 1].astype(str)\n",
    "        \n",
    "        # Count occurrences\n",
    "        attempt_count = last_10.str.count(\"Attempt\").sum()\n",
    "        ok_count = last_10.str.count(\"OK\").sum()\n",
    "\n",
    "        # First 10 rows should have Monitor = False\n",
    "        if i < 9:\n",
    "            monitor_status.append(False)\n",
    "        else:\n",
    "            monitor_status.append(ok_count <= 3)  # True if \"OK\" appears ≤ 3 times\n",
    "        \n",
    "        attempt_counts.append(attempt_count)\n",
    "    \n",
    "    return pd.DataFrame({'Monitor': monitor_status, 'Attempt_Count': attempt_counts})\n",
    "\n",
    "# Apply function for each student independently\n",
    "df[['Monitor', 'Attempt_Count']] = df.groupby('Anon Student Id')['Outcome'].apply(rolling_monitor_status).reset_index(drop=True)\n",
    "\n",
    "\n",
    "output_file = \"single_session_with_monitor_attempts.csv\"\n",
    "df.to_csv(output_file, index=False)\n"
   ]
  }
 ],
 "metadata": {
  "kernelspec": {
   "display_name": "Python 3 (ipykernel)",
   "language": "python",
   "name": "python3"
  },
  "language_info": {
   "codemirror_mode": {
    "name": "ipython",
    "version": 3
   },
   "file_extension": ".py",
   "mimetype": "text/x-python",
   "name": "python",
   "nbconvert_exporter": "python",
   "pygments_lexer": "ipython3",
   "version": "3.12.5"
  }
 },
 "nbformat": 4,
 "nbformat_minor": 5
}
