{
 "cells": [
  {
   "cell_type": "code",
   "execution_count": 1,
   "id": "67f01f24-089e-4ca2-aaf2-4768e3c00462",
   "metadata": {},
   "outputs": [
    {
     "name": "stdout",
     "output_type": "stream",
     "text": [
      "Requirement already satisfied: pandas in /Library/Frameworks/Python.framework/Versions/3.11/lib/python3.11/site-packages (2.2.2)\n",
      "Requirement already satisfied: numpy>=1.23.2 in /Library/Frameworks/Python.framework/Versions/3.11/lib/python3.11/site-packages (from pandas) (2.0.0)\n",
      "Requirement already satisfied: python-dateutil>=2.8.2 in /Library/Frameworks/Python.framework/Versions/3.11/lib/python3.11/site-packages (from pandas) (2.9.0.post0)\n",
      "Requirement already satisfied: pytz>=2020.1 in /Library/Frameworks/Python.framework/Versions/3.11/lib/python3.11/site-packages (from pandas) (2024.1)\n",
      "Requirement already satisfied: tzdata>=2022.7 in /Library/Frameworks/Python.framework/Versions/3.11/lib/python3.11/site-packages (from pandas) (2024.1)\n",
      "Requirement already satisfied: six>=1.5 in /Library/Frameworks/Python.framework/Versions/3.11/lib/python3.11/site-packages (from python-dateutil>=2.8.2->pandas) (1.16.0)\n",
      "\n",
      "\u001b[1m[\u001b[0m\u001b[34;49mnotice\u001b[0m\u001b[1;39;49m]\u001b[0m\u001b[39;49m A new release of pip is available: \u001b[0m\u001b[31;49m24.2\u001b[0m\u001b[39;49m -> \u001b[0m\u001b[32;49m25.0.1\u001b[0m\n",
      "\u001b[1m[\u001b[0m\u001b[34;49mnotice\u001b[0m\u001b[1;39;49m]\u001b[0m\u001b[39;49m To update, run: \u001b[0m\u001b[32;49mpip install --upgrade pip\u001b[0m\n"
     ]
    }
   ],
   "source": [
    "!pip install pandas"
   ]
  },
  {
   "cell_type": "code",
   "execution_count": 4,
   "id": "75654682-c139-4f86-b5d2-cc25bdf4a26b",
   "metadata": {},
   "outputs": [
    {
     "name": "stdout",
     "output_type": "stream",
     "text": [
      "[Timedelta('0 days 00:00:03'), Timedelta('0 days 00:00:03'), Timedelta('0 days 00:00:10'), Timedelta('0 days 00:00:16'), Timedelta('0 days 00:00:01'), Timedelta('0 days 00:03:23'), Timedelta('0 days 00:01:58'), Timedelta('0 days 00:00:01'), Timedelta('0 days 00:00:07'), Timedelta('0 days 00:00:10'), Timedelta('0 days 00:00:10'), Timedelta('4 days 23:45:05'), Timedelta('0 days 00:00:07'), Timedelta('5 days 01:23:57'), Timedelta('0 days 00:00:02'), Timedelta('0 days 00:00:14'), Timedelta('0 days 00:00:14'), Timedelta('0 days 00:00:01'), Timedelta('0 days 00:00:10'), Timedelta('0 days 00:00:07'), Timedelta('0 days 00:00:09'), Timedelta('0 days 00:23:00'), Timedelta('7 days 23:49:07'), Timedelta('0 days 00:05:54'), Timedelta('0 days 00:00:10'), Timedelta('0 days 00:00:02'), Timedelta('0 days 00:00:31'), Timedelta('0 days 00:01:32'), Timedelta('0 days 00:02:14'), Timedelta('0 days 00:00:45'), Timedelta('0 days 00:00:08'), Timedelta('0 days 00:01:33'), Timedelta('0 days 00:00:40'), Timedelta('0 days 00:00:01'), Timedelta('0 days 00:00:09'), Timedelta('0 days 00:00:40'), Timedelta('0 days 00:00:16'), Timedelta('0 days 00:00:03'), Timedelta('0 days 00:00:02'), Timedelta('12 days 16:07:14'), Timedelta('0 days 00:00:12'), Timedelta('0 days 00:02:34'), Timedelta('0 days 00:00:07'), Timedelta('0 days 00:00:40'), Timedelta('0 days 00:03:56'), Timedelta('0 days 00:00:06'), Timedelta('8 days 23:47:56'), Timedelta('13 days 20:12:13'), Timedelta('0 days 00:02:28'), Timedelta('0 days 00:00:23'), Timedelta('0 days 00:00:03'), Timedelta('0 days 00:00:09'), Timedelta('0 days 00:00:01'), Timedelta('0 days 00:01:57'), Timedelta('0 days 00:00:09'), Timedelta('0 days 00:00:08'), Timedelta('0 days 00:00:16'), Timedelta('0 days 00:00:07'), Timedelta('0 days 00:00:01'), Timedelta('0 days 00:00:02'), Timedelta('0 days 00:00:09'), Timedelta('0 days 00:00:04'), Timedelta('0 days 00:00:53'), Timedelta('0 days 00:00:03'), Timedelta('0 days 00:00:03'), Timedelta('0 days 00:00:01'), Timedelta('0 days 00:00:08'), Timedelta('0 days 00:00:05'), Timedelta('0 days 00:00:10'), Timedelta('0 days 00:00:10'), Timedelta('0 days 00:00:53'), Timedelta('0 days 00:00:26'), Timedelta('0 days 00:02:47'), Timedelta('0 days 00:00:01'), Timedelta('0 days 00:00:07'), Timedelta('0 days 00:00:03'), Timedelta('0 days 00:05:23'), Timedelta('0 days 00:01:41'), Timedelta('0 days 00:05:09'), Timedelta('0 days 00:11:37'), Timedelta('0 days 00:22:22'), Timedelta('0 days 00:00:07'), Timedelta('0 days 00:00:01'), Timedelta('0 days 00:00:02'), Timedelta('0 days 00:00:01'), Timedelta('0 days 00:00:19'), Timedelta('0 days 00:00:02'), Timedelta('0 days 00:07:28'), Timedelta('0 days 00:00:01'), Timedelta('0 days 00:00:01'), Timedelta('0 days 00:00:03'), Timedelta('40 days 23:37:23'), Timedelta('0 days 00:00:26'), Timedelta('0 days 00:00:30'), Timedelta('0 days 00:00:10'), Timedelta('0 days 00:01:11'), Timedelta('0 days 00:00:01'), Timedelta('0 days 00:06:15'), Timedelta('0 days 00:00:21'), Timedelta('0 days 00:00:07'), Timedelta('0 days 00:00:14'), Timedelta('0 days 00:00:02'), Timedelta('0 days 00:00:13'), Timedelta('0 days 00:00:09'), Timedelta('0 days 00:00:16'), Timedelta('0 days 00:00:19'), Timedelta('0 days 00:00:07'), Timedelta('0 days 00:00:04'), Timedelta('0 days 00:00:08'), Timedelta('0 days 00:00:03'), Timedelta('0 days 00:00:02'), Timedelta('0 days 00:05:56'), Timedelta('0 days 00:04:40'), Timedelta('0 days 00:00:31'), Timedelta('2 days 23:29:32'), Timedelta('0 days 00:00:07'), Timedelta('0 days 00:00:07'), Timedelta('0 days 00:00:22'), Timedelta('0 days 00:00:01'), Timedelta('0 days 00:00:02'), Timedelta('0 days 00:00:05'), Timedelta('0 days 00:00:05'), Timedelta('0 days 00:00:08'), Timedelta('0 days 00:00:02'), Timedelta('0 days 00:00:14'), Timedelta('0 days 00:00:04'), Timedelta('0 days 00:00:01'), Timedelta('0 days 00:00:11'), Timedelta('0 days 00:00:01'), Timedelta('0 days 00:00:15'), Timedelta('0 days 00:00:31'), Timedelta('0 days 00:00:28'), Timedelta('0 days 00:00:02'), Timedelta('0 days 00:11:22'), Timedelta('1 days 00:14:48'), Timedelta('0 days 23:35:44'), Timedelta('0 days 00:09:42'), Timedelta('0 days 00:15:36'), Timedelta('0 days 00:02:17'), Timedelta('0 days 00:06:11'), Timedelta('0 days 00:21:12'), Timedelta('0 days 23:22:15'), Timedelta('0 days 00:01:00'), Timedelta('0 days 00:22:41'), Timedelta('0 days 00:00:02'), Timedelta('0 days 00:00:07'), Timedelta('0 days 00:00:02'), Timedelta('4 days 00:45:52'), Timedelta('0 days 00:01:50'), Timedelta('14 days 01:16:40'), Timedelta('0 days 00:00:44'), Timedelta('0 days 00:02:50'), Timedelta('0 days 00:00:01'), Timedelta('0 days 00:00:43'), Timedelta('0 days 00:03:10'), Timedelta('0 days 00:00:08'), Timedelta('0 days 00:00:01'), Timedelta('0 days 00:03:33'), Timedelta('0 days 00:00:04'), Timedelta('0 days 00:00:01'), Timedelta('0 days 00:00:11'), Timedelta('0 days 00:04:44'), Timedelta('0 days 00:14:12'), Timedelta('0 days 00:00:11'), Timedelta('5 days 23:54:14'), Timedelta('0 days 00:15:09'), Timedelta('0 days 00:01:27'), Timedelta('0 days 00:00:06'), Timedelta('0 days 00:00:18'), Timedelta('7 days 00:17:27'), Timedelta('3 days 23:36:47'), Timedelta('1 days 22:22:15'), Timedelta('2 days 23:47:39'), Timedelta('19 days 23:32:09'), Timedelta('0 days 00:00:12'), Timedelta('0 days 00:00:04'), Timedelta('0 days 00:00:26'), Timedelta('0 days 00:00:02'), Timedelta('0 days 00:00:04'), Timedelta('0 days 00:00:09'), Timedelta('0 days 00:00:08'), Timedelta('0 days 00:00:15'), Timedelta('0 days 00:00:05'), Timedelta('0 days 00:00:05'), Timedelta('0 days 00:00:18'), Timedelta('0 days 00:00:07'), Timedelta('0 days 00:00:03'), Timedelta('0 days 00:00:02'), Timedelta('0 days 00:00:11'), Timedelta('0 days 00:00:06'), Timedelta('0 days 00:00:35'), Timedelta('0 days 00:00:29'), Timedelta('0 days 00:00:40'), Timedelta('0 days 00:00:01'), Timedelta('0 days 00:00:11'), Timedelta('0 days 00:00:05'), Timedelta('0 days 00:00:04'), Timedelta('0 days 00:01:01'), Timedelta('0 days 00:00:01'), Timedelta('0 days 00:00:05'), Timedelta('0 days 00:08:52'), Timedelta('0 days 00:00:29'), Timedelta('0 days 00:04:30'), Timedelta('0 days 00:19:48'), Timedelta('0 days 00:06:39'), Timedelta('0 days 00:00:01'), Timedelta('0 days 00:00:31'), Timedelta('0 days 00:00:27'), Timedelta('0 days 00:00:29'), Timedelta('0 days 00:00:03'), Timedelta('0 days 00:00:33'), Timedelta('0 days 00:00:12'), Timedelta('0 days 00:00:12'), Timedelta('0 days 00:00:07'), Timedelta('0 days 00:00:12'), Timedelta('0 days 00:00:03'), Timedelta('0 days 00:00:57'), Timedelta('0 days 00:00:08'), Timedelta('0 days 00:00:04'), Timedelta('0 days 00:00:05'), Timedelta('0 days 00:00:03'), Timedelta('0 days 00:00:14'), Timedelta('4 days 00:17:42'), Timedelta('0 days 00:00:01'), Timedelta('0 days 00:00:01'), Timedelta('0 days 00:00:08'), Timedelta('0 days 00:00:09'), Timedelta('0 days 00:00:14'), Timedelta('0 days 00:00:05'), Timedelta('0 days 00:00:38'), Timedelta('0 days 00:01:27'), Timedelta('0 days 00:00:10'), Timedelta('0 days 00:00:14'), Timedelta('0 days 00:00:03'), Timedelta('0 days 00:00:01'), Timedelta('0 days 00:00:03'), Timedelta('0 days 00:04:43'), Timedelta('0 days 00:08:36'), Timedelta('5 days 00:13:33'), Timedelta('0 days 00:29:05'), Timedelta('2 days 00:28:59'), Timedelta('1 days 23:57:19'), Timedelta('0 days 00:24:50'), Timedelta('3 days 00:00:57'), Timedelta('0 days 00:00:38'), Timedelta('0 days 00:06:37'), Timedelta('0 days 00:00:02'), Timedelta('0 days 00:00:09'), Timedelta('0 days 00:00:04'), Timedelta('0 days 00:00:33'), Timedelta('3 days 00:04:44'), Timedelta('0 days 00:00:05'), Timedelta('0 days 00:00:02'), Timedelta('0 days 00:00:22'), Timedelta('0 days 00:00:01'), Timedelta('0 days 00:00:06'), Timedelta('0 days 00:00:02'), Timedelta('0 days 00:00:52'), Timedelta('0 days 00:00:07'), Timedelta('0 days 00:00:04'), Timedelta('0 days 00:00:16'), Timedelta('0 days 00:00:04'), Timedelta('0 days 00:00:05'), Timedelta('0 days 00:00:09'), Timedelta('0 days 00:00:10'), Timedelta('0 days 00:00:04'), Timedelta('0 days 00:00:03'), Timedelta('0 days 00:03:07'), Timedelta('0 days 00:00:03'), Timedelta('0 days 00:00:03'), Timedelta('3 days 00:07:05'), Timedelta('12 days 00:41:17'), Timedelta('0 days 00:00:09'), Timedelta('0 days 00:00:10'), Timedelta('0 days 00:00:03'), Timedelta('0 days 00:20:30'), Timedelta('0 days 00:10:10'), Timedelta('0 days 00:00:04'), Timedelta('0 days 00:02:13'), Timedelta('0 days 00:08:07'), Timedelta('0 days 23:29:30'), Timedelta('0 days 00:00:58'), Timedelta('1 days 00:23:11'), Timedelta('0 days 23:29:20'), Timedelta('0 days 00:12:49'), Timedelta('1 days 23:22:34'), Timedelta('12 days 00:20:11'), Timedelta('0 days 00:00:16'), Timedelta('0 days 00:00:28'), Timedelta('0 days 00:00:47'), Timedelta('0 days 00:01:02'), Timedelta('0 days 00:00:11'), Timedelta('0 days 00:00:03'), Timedelta('0 days 00:00:14'), Timedelta('0 days 00:07:52'), Timedelta('0 days 17:21:37'), Timedelta('0 days 00:00:07'), Timedelta('0 days 00:00:39'), Timedelta('4 days 23:39:35'), Timedelta('0 days 00:00:03'), Timedelta('74 days 00:59:49'), Timedelta('0 days 00:01:24'), Timedelta('0 days 00:01:22'), Timedelta('0 days 23:30:04'), Timedelta('2 days 00:19:26'), Timedelta('0 days 00:00:10'), Timedelta('0 days 00:00:10'), Timedelta('0 days 00:00:03'), Timedelta('0 days 00:00:07'), Timedelta('0 days 00:00:07'), Timedelta('0 days 00:00:09'), Timedelta('0 days 00:00:07'), Timedelta('0 days 00:00:01'), Timedelta('0 days 00:00:53'), Timedelta('1 days 00:30:13'), Timedelta('0 days 00:00:41'), Timedelta('0 days 00:17:12'), Timedelta('3 days 00:39:13'), Timedelta('0 days 00:30:35'), Timedelta('0 days 00:00:52'), Timedelta('0 days 00:00:10'), Timedelta('0 days 00:00:39'), Timedelta('0 days 00:00:04'), Timedelta('0 days 00:00:01'), Timedelta('0 days 00:02:26'), Timedelta('0 days 00:00:42'), Timedelta('0 days 00:09:40'), Timedelta('0 days 00:00:06'), Timedelta('0 days 00:01:01'), Timedelta('0 days 00:00:42'), Timedelta('0 days 00:00:53'), Timedelta('0 days 00:00:35'), Timedelta('0 days 00:10:43'), Timedelta('0 days 00:05:49'), Timedelta('0 days 00:00:17'), Timedelta('0 days 00:00:02'), Timedelta('0 days 00:01:51'), Timedelta('0 days 00:00:02'), Timedelta('0 days 00:00:09'), Timedelta('0 days 00:00:06'), Timedelta('0 days 00:00:05'), Timedelta('0 days 00:02:45'), Timedelta('0 days 00:00:58'), Timedelta('0 days 23:11:54'), Timedelta('0 days 00:00:15'), Timedelta('0 days 00:01:24'), Timedelta('0 days 00:00:12'), Timedelta('0 days 00:11:21'), Timedelta('0 days 00:00:13'), Timedelta('0 days 00:00:07'), Timedelta('0 days 00:01:14'), Timedelta('0 days 00:00:07'), Timedelta('0 days 00:00:08'), Timedelta('0 days 00:00:04'), Timedelta('0 days 00:00:10'), Timedelta('0 days 00:01:02'), Timedelta('0 days 00:00:29'), Timedelta('0 days 00:00:08'), Timedelta('0 days 00:00:07'), Timedelta('0 days 00:00:24'), Timedelta('0 days 00:00:02'), Timedelta('0 days 00:16:12'), Timedelta('0 days 00:00:06'), Timedelta('0 days 00:00:01'), Timedelta('0 days 00:00:07'), Timedelta('23 days 23:45:30'), Timedelta('4 days 22:24:16'), Timedelta('0 days 00:00:01'), Timedelta('0 days 00:00:05'), Timedelta('0 days 00:00:05'), Timedelta('0 days 00:00:07'), Timedelta('0 days 00:00:11'), Timedelta('0 days 00:00:18'), Timedelta('0 days 00:00:01'), Timedelta('0 days 00:00:46'), Timedelta('0 days 00:00:08'), Timedelta('0 days 00:00:04'), Timedelta('0 days 00:00:03'), Timedelta('0 days 00:02:42'), Timedelta('0 days 00:00:13'), Timedelta('0 days 00:01:05'), Timedelta('0 days 00:00:02'), Timedelta('0 days 00:01:55'), Timedelta('0 days 00:05:48'), Timedelta('0 days 00:06:52'), Timedelta('0 days 23:27:00'), Timedelta('13 days 23:39:55'), Timedelta('0 days 00:00:02'), Timedelta('0 days 00:00:11'), Timedelta('0 days 00:00:04'), Timedelta('0 days 00:00:08'), Timedelta('0 days 00:00:16'), Timedelta('0 days 00:00:01'), Timedelta('1 days 00:39:38'), Timedelta('0 days 00:18:37'), Timedelta('0 days 00:00:03'), Timedelta('0 days 00:03:52'), Timedelta('0 days 00:00:17'), Timedelta('0 days 00:00:49'), Timedelta('0 days 00:01:46'), Timedelta('0 days 00:01:05'), Timedelta('0 days 00:00:05'), Timedelta('0 days 00:00:50'), Timedelta('14 days 00:54:50'), Timedelta('0 days 00:01:10'), Timedelta('0 days 00:00:30'), Timedelta('0 days 00:00:01'), Timedelta('0 days 00:00:10'), Timedelta('0 days 00:00:13'), Timedelta('35 days 22:51:28'), Timedelta('0 days 00:00:25'), Timedelta('14 days 00:35:42'), Timedelta('0 days 00:06:35'), Timedelta('0 days 00:00:02'), Timedelta('0 days 00:01:18'), Timedelta('0 days 00:00:53'), Timedelta('0 days 00:01:46'), Timedelta('0 days 00:00:40'), Timedelta('6 days 23:43:13'), Timedelta('0 days 00:00:19'), Timedelta('0 days 00:00:05'), Timedelta('0 days 00:00:30'), Timedelta('0 days 00:00:42'), Timedelta('0 days 00:00:01'), Timedelta('0 days 00:00:07'), Timedelta('0 days 00:00:45'), Timedelta('0 days 00:10:08'), Timedelta('0 days 00:07:11'), Timedelta('14 days 00:48:45'), Timedelta('0 days 00:00:12'), Timedelta('0 days 00:00:09'), Timedelta('0 days 00:00:01'), Timedelta('0 days 00:00:06'), Timedelta('0 days 00:00:01'), Timedelta('0 days 00:00:10'), Timedelta('0 days 00:00:05'), Timedelta('0 days 00:00:31'), Timedelta('0 days 00:00:02'), Timedelta('30 days 14:39:40'), Timedelta('0 days 00:01:11'), Timedelta('0 days 00:03:09'), Timedelta('0 days 00:00:05'), Timedelta('0 days 00:00:11'), Timedelta('0 days 00:00:39'), Timedelta('0 days 00:00:13'), Timedelta('0 days 00:00:02'), Timedelta('0 days 00:01:10'), Timedelta('0 days 00:00:38'), Timedelta('0 days 00:00:01'), Timedelta('0 days 00:00:09'), Timedelta('0 days 00:16:00'), Timedelta('0 days 00:00:04'), Timedelta('0 days 00:00:03'), Timedelta('0 days 00:00:07'), Timedelta('0 days 00:01:22'), Timedelta('0 days 00:09:45'), Timedelta('17 days 00:53:49'), Timedelta('22 days 04:42:10'), Timedelta('14 days 01:13:16'), Timedelta('0 days 00:00:01'), Timedelta('7 days 00:05:09'), Timedelta('0 days 00:00:09'), Timedelta('0 days 00:00:11'), Timedelta('0 days 00:01:01'), Timedelta('14 days 23:53:40'), Timedelta('14 days 00:39:28'), Timedelta('0 days 00:00:01'), Timedelta('0 days 23:39:28'), Timedelta('0 days 00:00:03'), Timedelta('0 days 00:00:48'), Timedelta('0 days 00:00:05'), Timedelta('0 days 00:02:29'), Timedelta('0 days 00:00:18'), Timedelta('0 days 00:00:10'), Timedelta('0 days 00:00:16'), Timedelta('0 days 00:00:01'), Timedelta('0 days 00:00:39'), Timedelta('0 days 00:00:07'), Timedelta('0 days 00:00:03'), Timedelta('0 days 00:00:05'), Timedelta('0 days 00:00:01'), Timedelta('4 days 23:56:21'), Timedelta('0 days 00:00:02'), Timedelta('0 days 00:00:08'), Timedelta('0 days 00:00:03'), Timedelta('0 days 00:00:45'), Timedelta('0 days 00:00:40'), Timedelta('0 days 00:00:02'), Timedelta('0 days 00:00:25'), Timedelta('0 days 00:00:03'), Timedelta('0 days 00:00:06'), Timedelta('0 days 00:00:26'), Timedelta('0 days 00:00:24'), Timedelta('0 days 00:00:23'), Timedelta('0 days 00:04:49'), Timedelta('0 days 00:00:31'), Timedelta('0 days 00:00:35'), Timedelta('0 days 00:00:05'), Timedelta('0 days 00:00:45'), Timedelta('0 days 00:00:02'), Timedelta('0 days 00:00:07'), Timedelta('0 days 00:00:01'), Timedelta('0 days 00:00:20'), Timedelta('12 days 00:43:24'), Timedelta('0 days 00:00:05'), Timedelta('0 days 00:00:15'), Timedelta('0 days 00:04:52'), Timedelta('4 days 00:01:49'), Timedelta('0 days 00:07:47'), Timedelta('0 days 00:00:15'), Timedelta('0 days 00:01:07'), Timedelta('0 days 00:00:27'), Timedelta('0 days 00:00:26'), Timedelta('0 days 00:00:19'), Timedelta('0 days 00:00:01'), Timedelta('0 days 00:02:24'), Timedelta('0 days 00:00:58'), Timedelta('0 days 00:00:44'), Timedelta('22 days 16:03:11'), Timedelta('33 days 22:59:19'), Timedelta('0 days 00:22:15'), Timedelta('0 days 00:00:01'), Timedelta('0 days 00:09:29'), Timedelta('0 days 00:01:00'), Timedelta('0 days 00:16:52'), Timedelta('0 days 00:06:06'), Timedelta('0 days 00:00:13'), Timedelta('0 days 00:01:08'), Timedelta('0 days 00:01:21'), Timedelta('0 days 00:00:17'), Timedelta('0 days 00:00:47'), Timedelta('0 days 00:00:02'), Timedelta('0 days 00:03:44'), Timedelta('0 days 00:00:01'), Timedelta('0 days 00:00:02'), Timedelta('0 days 00:00:03'), Timedelta('0 days 00:06:33'), Timedelta('21 days 00:28:27'), Timedelta('0 days 00:00:10'), Timedelta('0 days 00:00:06'), Timedelta('0 days 00:00:02'), Timedelta('0 days 00:01:31'), Timedelta('8 days 23:51:25'), Timedelta('1 days 00:00:02'), Timedelta('0 days 00:08:31'), Timedelta('0 days 00:00:09'), Timedelta('0 days 00:00:01'), Timedelta('0 days 00:00:09'), Timedelta('0 days 00:00:07'), Timedelta('0 days 00:00:12'), Timedelta('10 days 23:53:07'), Timedelta('0 days 00:01:07'), Timedelta('0 days 00:00:33'), Timedelta('0 days 00:04:43'), Timedelta('0 days 00:17:44'), Timedelta('0 days 00:00:09'), Timedelta('0 days 00:03:19'), Timedelta('4 days 00:46:46'), Timedelta('0 days 00:00:01'), Timedelta('12 days 01:16:11'), Timedelta('31 days 23:31:56'), Timedelta('0 days 23:34:21'), Timedelta('1 days 00:16:55'), Timedelta('0 days 00:00:21'), Timedelta('7 days 00:10:54'), Timedelta('0 days 00:02:32'), Timedelta('0 days 00:00:14'), Timedelta('0 days 00:04:24'), Timedelta('18 days 22:16:09'), Timedelta('0 days 00:00:54'), Timedelta('28 days 14:46:14'), Timedelta('0 days 00:00:09'), Timedelta('0 days 00:00:09'), Timedelta('0 days 00:00:02'), Timedelta('0 days 00:00:11'), Timedelta('0 days 00:42:59'), Timedelta('1 days 00:00:27'), Timedelta('0 days 00:00:56'), Timedelta('0 days 00:02:18'), Timedelta('3 days 00:07:38'), Timedelta('0 days 00:00:02'), Timedelta('0 days 00:00:20'), Timedelta('0 days 00:00:50'), Timedelta('0 days 00:01:13'), Timedelta('0 days 00:00:01'), Timedelta('0 days 00:00:10'), Timedelta('0 days 00:00:24'), Timedelta('0 days 00:00:02'), Timedelta('37 days 23:26:43'), Timedelta('0 days 00:00:05'), Timedelta('0 days 00:02:44'), Timedelta('61 days 23:15:05'), Timedelta('0 days 00:01:51'), Timedelta('0 days 00:00:04'), Timedelta('0 days 00:01:37'), Timedelta('0 days 00:00:10'), Timedelta('0 days 00:00:01'), Timedelta('0 days 00:00:03'), Timedelta('41 days 22:43:22'), Timedelta('1 days 23:43:59'), Timedelta('0 days 00:00:10'), Timedelta('0 days 00:00:02'), Timedelta('0 days 00:20:55'), Timedelta('0 days 00:00:01'), Timedelta('0 days 00:30:13'), Timedelta('1 days 12:35:11'), Timedelta('0 days 00:05:50'), Timedelta('0 days 00:00:35'), Timedelta('0 days 00:00:38'), Timedelta('0 days 00:00:19'), Timedelta('0 days 00:00:38'), Timedelta('0 days 00:00:09'), Timedelta('0 days 00:00:05'), Timedelta('101 days 01:19:06'), Timedelta('0 days 00:10:15'), Timedelta('0 days 00:00:01'), Timedelta('0 days 00:03:48'), Timedelta('4 days 22:37:01'), Timedelta('0 days 00:24:54'), Timedelta('0 days 00:11:04'), Timedelta('4 days 01:29:34'), Timedelta('0 days 00:00:46'), Timedelta('0 days 00:00:01'), Timedelta('0 days 01:09:54'), Timedelta('48 days 23:41:56'), Timedelta('153 days 00:43:53'), Timedelta('84 days 22:42:25'), Timedelta('0 days 00:21:42'), Timedelta('0 days 00:00:02'), Timedelta('181 days 23:00:31'), Timedelta('39 days 22:06:34'), Timedelta('29 days 23:47:33'), Timedelta('0 days 00:00:19')]\n",
      "The average time difference is: 2 days 11:39:29.971563981\n"
     ]
    }
   ],
   "source": [
    "import pandas as pd\n",
    "\n",
    "# Load the CSV files\n",
    "updated_livelab = pd.read_csv('Updated_LiveLab.csv')\n",
    "marked_help_instances = pd.read_csv('Marked Help Instances - 7x - anon - Marked Help Instances - 7x - anon.csv')\n",
    "\n",
    "# Convert time columns to datetime\n",
    "updated_livelab['Time'] = pd.to_datetime(updated_livelab['Time'])\n",
    "marked_help_instances['helped_server_time2'] = pd.to_datetime(marked_help_instances['helped_server_time2'])\n",
    "\n",
    "# Filter rows where helpedTransaction is True\n",
    "helped_transactions = updated_livelab[updated_livelab['helpedTransaction'] == True]\n",
    "\n",
    "# Initialize a list to store time differences\n",
    "time_differences = []\n",
    "\n",
    "# Iterate over each student\n",
    "for student_id in helped_transactions['Anon Student Id'].unique():\n",
    "    # Get all helpedTransaction times for the current student\n",
    "    student_helped_times = helped_transactions[helped_transactions['Anon Student Id'] == student_id]['Time']\n",
    "    \n",
    "    # Get all marked_help_instance times for the current student\n",
    "    student_marked_times = marked_help_instances[marked_help_instances['anon_student_id'] == student_id]['helped_server_time2']\n",
    "    \n",
    "    # For each helpedTransaction time, find the closest marked_help_instance time\n",
    "    for helped_time in student_helped_times:\n",
    "        # Calculate the absolute time differences between helped_time and all marked_help_instance times\n",
    "        time_diffs = (student_marked_times - helped_time).abs()\n",
    "        \n",
    "        # Find the minimum time difference (closest marked_help_instance time)\n",
    "        min_diff = time_diffs.min()\n",
    "        \n",
    "        # Append the minimum difference to the list\n",
    "        time_differences.append(min_diff)\n",
    "\n",
    "print(time_differences)\n",
    "# Convert the list of time differences to a pandas Series for easier calculations\n",
    "time_differences_series = pd.Series(time_differences)\n",
    "\n",
    "# Calculate the average time difference (fixed time window)\n",
    "fixed_time_window = time_differences_series.mean()\n",
    "\n",
    "# Print the result\n",
    "print(f\"The average time difference is: {fixed_time_window}\")"
   ]
  },
  {
   "cell_type": "code",
   "execution_count": 5,
   "id": "94422beb-04d0-4168-84a7-962770bb9777",
   "metadata": {},
   "outputs": [
    {
     "name": "stdout",
     "output_type": "stream",
     "text": [
      "2 days 11:39:29.971563981\n"
     ]
    }
   ],
   "source": [
    "print(fixed_time_window)"
   ]
  },
  {
   "cell_type": "code",
   "execution_count": 10,
   "id": "5989a18f-a5b6-44ee-ac66-2a3390708ddf",
   "metadata": {},
   "outputs": [
    {
     "name": "stdout",
     "output_type": "stream",
     "text": [
      "0          False\n",
      "1          False\n",
      "2          False\n",
      "3          False\n",
      "4          False\n",
      "           ...  \n",
      "1650341    False\n",
      "1650342    False\n",
      "1650343    False\n",
      "1650344    False\n",
      "1650345    False\n",
      "Name: helpedTransaction, Length: 1650346, dtype: bool\n"
     ]
    }
   ],
   "source": [
    "# Iterate over each student to define the pre-help window and mark transactions\n",
    "for student_id in updated_livelab['Anon Student Id'].unique():\n",
    "    # Get all transactions for the current student\n",
    "    student_transactions = updated_livelab[updated_livelab['Anon Student Id'] == student_id]\n",
    "    \n",
    "    # Get all marked_help_instance times for the current student\n",
    "    student_marked_times = marked_help_instances[marked_help_instances['anon_student_id'] == student_id]['helped_server_time2']\n",
    "    \n",
    "    # Get all helpedTransaction times for the current student\n",
    "    student_helped_times = student_transactions[student_transactions['helpedTransaction'] == True]['Time']\n",
    "    \n",
    "    # For each helpedTransaction time, define the pre-help window\n",
    "    for helped_time in student_helped_times:\n",
    "        # Define the pre-help window\n",
    "        pre_help_start = helped_time - fixed_time_window\n",
    "        pre_help_end = helped_time\n",
    "        \n",
    "        # Find the closest marked_help_instance time to the helped_time\n",
    "        closest_marked_time = (student_marked_times - helped_time).abs().idxmin()\n",
    "        # Find the transaction in updated_livelab closest to the marked_help_instance time\n",
    "        closest_transaction_index = (student_transactions['Time'] - student_marked_times.loc[closest_marked_time]).abs().idxmin()\n",
    "        closest_problem_name = student_transactions.loc[closest_transaction_index, 'Problem Name']\n",
    "        \n",
    "        # Mark transactions within the pre-help window and with the same problem name\n",
    "        updated_livelab.loc[\n",
    "            (updated_livelab['Anon Student Id'] == student_id) &\n",
    "            (updated_livelab['Time'] >= pre_help_start) &\n",
    "            (updated_livelab['Time'] <= pre_help_end) &\n",
    "            (updated_livelab['Problem Name'] == closest_problem_name),\n",
    "            'helpedTransaction'\n",
    "        ] = True\n",
    "\n",
    "# Save the updated dataframe to a new CSV file\n",
    "updated_livelab.to_csv('PreHelp_LiveLab.csv', index=False)\n",
    "\n",
    "# Display the updated DataFrame\n",
    "print(updated_livelab[\"helpedTransaction\"])"
   ]
  },
  {
   "cell_type": "code",
   "execution_count": null,
   "id": "7e45792d-79c8-4091-972b-f8f5a0bfd469",
   "metadata": {},
   "outputs": [],
   "source": []
  }
 ],
 "metadata": {
  "kernelspec": {
   "display_name": "Python 3 (ipykernel)",
   "language": "python",
   "name": "python3"
  },
  "language_info": {
   "codemirror_mode": {
    "name": "ipython",
    "version": 3
   },
   "file_extension": ".py",
   "mimetype": "text/x-python",
   "name": "python",
   "nbconvert_exporter": "python",
   "pygments_lexer": "ipython3",
   "version": "3.11.5"
  }
 },
 "nbformat": 4,
 "nbformat_minor": 5
}
